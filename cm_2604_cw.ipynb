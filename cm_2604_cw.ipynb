{
  "nbformat": 4,
  "nbformat_minor": 0,
  "metadata": {
    "colab": {
      "provenance": []
    },
    "kernelspec": {
      "name": "python3",
      "display_name": "Python 3"
    },
    "language_info": {
      "name": "python"
    }
  },
  "cells": [
    {
      "cell_type": "code",
      "execution_count": 1,
      "metadata": {
        "id": "6Whral582FJf"
      },
      "outputs": [],
      "source": [
        "import pandas as pd\n",
        "import numpy as np\n",
        "from sklearn.model_selection import train_test_split\n",
        "from sklearn.preprocessing import StandardScaler, LabelEncoder\n",
        "from sklearn.ensemble import RandomForestClassifier\n",
        "from sklearn.metrics import classification_report, accuracy_score\n",
        "import tensorflow as tf\n",
        "from tensorflow.keras.models import Sequential\n",
        "from tensorflow.keras.layers import Dense, Dropout"
      ]
    },
    {
      "cell_type": "code",
      "source": [
        "# Load the dataset\n",
        "data_url = \"https://archive.ics.uci.edu/ml/machine-learning-databases/00222/bank.zip\""
      ],
      "metadata": {
        "id": "m0l45cbfsRXS"
      },
      "execution_count": 2,
      "outputs": []
    },
    {
      "cell_type": "code",
      "source": [
        "# Download and extract data\n",
        "data = pd.read_csv(\"bank-full.csv\", sep=\";\", engine=\"python\")"
      ],
      "metadata": {
        "id": "zyW-u7MysvSi"
      },
      "execution_count": 4,
      "outputs": []
    },
    {
      "cell_type": "code",
      "source": [
        "# Preprocessing\n",
        "label_encoder = LabelEncoder()\n",
        "data['y'] = label_encoder.fit_transform(data['y'])  # Encode target variable"
      ],
      "metadata": {
        "id": "i6WQ7eH5tJms"
      },
      "execution_count": 5,
      "outputs": []
    },
    {
      "cell_type": "code",
      "source": [
        "# One-hot encode categorical variables\n",
        "data = pd.get_dummies(data, drop_first=True)"
      ],
      "metadata": {
        "id": "usMy_XuBtNFv"
      },
      "execution_count": 6,
      "outputs": []
    },
    {
      "cell_type": "code",
      "source": [
        "# Split features and target\n",
        "X = data.drop(\"y\", axis=1)\n",
        "y = data['y']"
      ],
      "metadata": {
        "id": "Pb6DLItCtPez"
      },
      "execution_count": 7,
      "outputs": []
    },
    {
      "cell_type": "code",
      "source": [
        "# Train-test split\n",
        "X_train, X_test, y_train, y_test = train_test_split(X, y, test_size=0.2, random_state=42)"
      ],
      "metadata": {
        "id": "Sv90CSTPtSwc"
      },
      "execution_count": 8,
      "outputs": []
    },
    {
      "cell_type": "code",
      "source": [
        "# Feature scaling\n",
        "scaler = StandardScaler()\n",
        "X_train = scaler.fit_transform(X_train)\n",
        "X_test = scaler.transform(X_test)"
      ],
      "metadata": {
        "id": "DgRmuDnYtVAK"
      },
      "execution_count": 9,
      "outputs": []
    },
    {
      "cell_type": "code",
      "source": [
        "# Random Forest Classifier\n",
        "rf_model = RandomForestClassifier(random_state=42)\n",
        "rf_model.fit(X_train, y_train)\n",
        "rf_predictions = rf_model.predict(X_test)"
      ],
      "metadata": {
        "id": "6F1CYFmQtV--"
      },
      "execution_count": 10,
      "outputs": []
    },
    {
      "cell_type": "code",
      "source": [
        "# Evaluate Random Forest\n",
        "print(\"Random Forest Classification Report:\\n\", classification_report(y_test, rf_predictions))\n",
        "print(\"Random Forest Accuracy:\", accuracy_score(y_test, rf_predictions))"
      ],
      "metadata": {
        "id": "wnMgj76qtYrz",
        "outputId": "6553a976-77fe-495b-81f9-13eebf206916",
        "colab": {
          "base_uri": "https://localhost:8080/"
        }
      },
      "execution_count": 11,
      "outputs": [
        {
          "output_type": "stream",
          "name": "stdout",
          "text": [
            "Random Forest Classification Report:\n",
            "               precision    recall  f1-score   support\n",
            "\n",
            "           0       0.92      0.97      0.95      7952\n",
            "           1       0.67      0.40      0.50      1091\n",
            "\n",
            "    accuracy                           0.90      9043\n",
            "   macro avg       0.80      0.69      0.72      9043\n",
            "weighted avg       0.89      0.90      0.89      9043\n",
            "\n",
            "Random Forest Accuracy: 0.9036824062811014\n"
          ]
        }
      ]
    },
    {
      "cell_type": "code",
      "source": [
        "# Neural Network Classifier\n",
        "nn_model = Sequential([\n",
        "    Dense(128, input_dim=X_train.shape[1], activation='relu'),\n",
        "    Dropout(0.3),\n",
        "    Dense(64, activation='relu'),\n",
        "    Dropout(0.3),\n",
        "    Dense(1, activation='sigmoid')\n",
        "])"
      ],
      "metadata": {
        "id": "6f7uupIItckL",
        "outputId": "1b18cc8d-1e32-4ecc-b036-de16cd62094e",
        "colab": {
          "base_uri": "https://localhost:8080/"
        }
      },
      "execution_count": 12,
      "outputs": [
        {
          "output_type": "stream",
          "name": "stderr",
          "text": [
            "/usr/local/lib/python3.10/dist-packages/keras/src/layers/core/dense.py:87: UserWarning: Do not pass an `input_shape`/`input_dim` argument to a layer. When using Sequential models, prefer using an `Input(shape)` object as the first layer in the model instead.\n",
            "  super().__init__(activity_regularizer=activity_regularizer, **kwargs)\n"
          ]
        }
      ]
    },
    {
      "cell_type": "code",
      "source": [
        "nn_model.compile(optimizer='adam', loss='binary_crossentropy', metrics=['accuracy'])"
      ],
      "metadata": {
        "id": "WNW1TdHgtg-_"
      },
      "execution_count": 13,
      "outputs": []
    },
    {
      "cell_type": "code",
      "source": [
        "# Train Neural Network\n",
        "nn_model.fit(X_train, y_train, epochs=20, batch_size=32, validation_split=0.2, verbose=1)"
      ],
      "metadata": {
        "id": "s-m7CHbTtiGT",
        "outputId": "8bffd58d-0e5e-48eb-c02e-e0d9b23172ea",
        "colab": {
          "base_uri": "https://localhost:8080/"
        }
      },
      "execution_count": 14,
      "outputs": [
        {
          "output_type": "stream",
          "name": "stdout",
          "text": [
            "Epoch 1/20\n",
            "\u001b[1m905/905\u001b[0m \u001b[32m━━━━━━━━━━━━━━━━━━━━\u001b[0m\u001b[37m\u001b[0m \u001b[1m12s\u001b[0m 9ms/step - accuracy: 0.8910 - loss: 0.2923 - val_accuracy: 0.9020 - val_loss: 0.2131\n",
            "Epoch 2/20\n",
            "\u001b[1m905/905\u001b[0m \u001b[32m━━━━━━━━━━━━━━━━━━━━\u001b[0m\u001b[37m\u001b[0m \u001b[1m7s\u001b[0m 5ms/step - accuracy: 0.9019 - loss: 0.2242 - val_accuracy: 0.9050 - val_loss: 0.2065\n",
            "Epoch 3/20\n",
            "\u001b[1m905/905\u001b[0m \u001b[32m━━━━━━━━━━━━━━━━━━━━\u001b[0m\u001b[37m\u001b[0m \u001b[1m4s\u001b[0m 4ms/step - accuracy: 0.9023 - loss: 0.2181 - val_accuracy: 0.9050 - val_loss: 0.2052\n",
            "Epoch 4/20\n",
            "\u001b[1m905/905\u001b[0m \u001b[32m━━━━━━━━━━━━━━━━━━━━\u001b[0m\u001b[37m\u001b[0m \u001b[1m3s\u001b[0m 3ms/step - accuracy: 0.9050 - loss: 0.2149 - val_accuracy: 0.9056 - val_loss: 0.2044\n",
            "Epoch 5/20\n",
            "\u001b[1m905/905\u001b[0m \u001b[32m━━━━━━━━━━━━━━━━━━━━\u001b[0m\u001b[37m\u001b[0m \u001b[1m2s\u001b[0m 2ms/step - accuracy: 0.9034 - loss: 0.2103 - val_accuracy: 0.9067 - val_loss: 0.2036\n",
            "Epoch 6/20\n",
            "\u001b[1m905/905\u001b[0m \u001b[32m━━━━━━━━━━━━━━━━━━━━\u001b[0m\u001b[37m\u001b[0m \u001b[1m3s\u001b[0m 2ms/step - accuracy: 0.9068 - loss: 0.2045 - val_accuracy: 0.9046 - val_loss: 0.2019\n",
            "Epoch 7/20\n",
            "\u001b[1m905/905\u001b[0m \u001b[32m━━━━━━━━━━━━━━━━━━━━\u001b[0m\u001b[37m\u001b[0m \u001b[1m3s\u001b[0m 4ms/step - accuracy: 0.9056 - loss: 0.2013 - val_accuracy: 0.9048 - val_loss: 0.2018\n",
            "Epoch 8/20\n",
            "\u001b[1m905/905\u001b[0m \u001b[32m━━━━━━━━━━━━━━━━━━━━\u001b[0m\u001b[37m\u001b[0m \u001b[1m3s\u001b[0m 4ms/step - accuracy: 0.9086 - loss: 0.1959 - val_accuracy: 0.9067 - val_loss: 0.1982\n",
            "Epoch 9/20\n",
            "\u001b[1m905/905\u001b[0m \u001b[32m━━━━━━━━━━━━━━━━━━━━\u001b[0m\u001b[37m\u001b[0m \u001b[1m3s\u001b[0m 3ms/step - accuracy: 0.9115 - loss: 0.1947 - val_accuracy: 0.9053 - val_loss: 0.1996\n",
            "Epoch 10/20\n",
            "\u001b[1m905/905\u001b[0m \u001b[32m━━━━━━━━━━━━━━━━━━━━\u001b[0m\u001b[37m\u001b[0m \u001b[1m2s\u001b[0m 2ms/step - accuracy: 0.9166 - loss: 0.1885 - val_accuracy: 0.9060 - val_loss: 0.1995\n",
            "Epoch 11/20\n",
            "\u001b[1m905/905\u001b[0m \u001b[32m━━━━━━━━━━━━━━━━━━━━\u001b[0m\u001b[37m\u001b[0m \u001b[1m3s\u001b[0m 2ms/step - accuracy: 0.9116 - loss: 0.1950 - val_accuracy: 0.9067 - val_loss: 0.2012\n",
            "Epoch 12/20\n",
            "\u001b[1m905/905\u001b[0m \u001b[32m━━━━━━━━━━━━━━━━━━━━\u001b[0m\u001b[37m\u001b[0m \u001b[1m3s\u001b[0m 2ms/step - accuracy: 0.9104 - loss: 0.1910 - val_accuracy: 0.9068 - val_loss: 0.1992\n",
            "Epoch 13/20\n",
            "\u001b[1m905/905\u001b[0m \u001b[32m━━━━━━━━━━━━━━━━━━━━\u001b[0m\u001b[37m\u001b[0m \u001b[1m2s\u001b[0m 2ms/step - accuracy: 0.9109 - loss: 0.1936 - val_accuracy: 0.9061 - val_loss: 0.1998\n",
            "Epoch 14/20\n",
            "\u001b[1m905/905\u001b[0m \u001b[32m━━━━━━━━━━━━━━━━━━━━\u001b[0m\u001b[37m\u001b[0m \u001b[1m4s\u001b[0m 3ms/step - accuracy: 0.9100 - loss: 0.1950 - val_accuracy: 0.9053 - val_loss: 0.2001\n",
            "Epoch 15/20\n",
            "\u001b[1m905/905\u001b[0m \u001b[32m━━━━━━━━━━━━━━━━━━━━\u001b[0m\u001b[37m\u001b[0m \u001b[1m2s\u001b[0m 2ms/step - accuracy: 0.9166 - loss: 0.1854 - val_accuracy: 0.9046 - val_loss: 0.1995\n",
            "Epoch 16/20\n",
            "\u001b[1m905/905\u001b[0m \u001b[32m━━━━━━━━━━━━━━━━━━━━\u001b[0m\u001b[37m\u001b[0m \u001b[1m3s\u001b[0m 2ms/step - accuracy: 0.9117 - loss: 0.1899 - val_accuracy: 0.9064 - val_loss: 0.1997\n",
            "Epoch 17/20\n",
            "\u001b[1m905/905\u001b[0m \u001b[32m━━━━━━━━━━━━━━━━━━━━\u001b[0m\u001b[37m\u001b[0m \u001b[1m2s\u001b[0m 2ms/step - accuracy: 0.9152 - loss: 0.1859 - val_accuracy: 0.9060 - val_loss: 0.1982\n",
            "Epoch 18/20\n",
            "\u001b[1m905/905\u001b[0m \u001b[32m━━━━━━━━━━━━━━━━━━━━\u001b[0m\u001b[37m\u001b[0m \u001b[1m2s\u001b[0m 2ms/step - accuracy: 0.9147 - loss: 0.1903 - val_accuracy: 0.9052 - val_loss: 0.1986\n",
            "Epoch 19/20\n",
            "\u001b[1m905/905\u001b[0m \u001b[32m━━━━━━━━━━━━━━━━━━━━\u001b[0m\u001b[37m\u001b[0m \u001b[1m2s\u001b[0m 2ms/step - accuracy: 0.9143 - loss: 0.1864 - val_accuracy: 0.9063 - val_loss: 0.1986\n",
            "Epoch 20/20\n",
            "\u001b[1m905/905\u001b[0m \u001b[32m━━━━━━━━━━━━━━━━━━━━\u001b[0m\u001b[37m\u001b[0m \u001b[1m3s\u001b[0m 3ms/step - accuracy: 0.9160 - loss: 0.1775 - val_accuracy: 0.9038 - val_loss: 0.1990\n"
          ]
        },
        {
          "output_type": "execute_result",
          "data": {
            "text/plain": [
              "<keras.src.callbacks.history.History at 0x79246c260280>"
            ]
          },
          "metadata": {},
          "execution_count": 14
        }
      ]
    },
    {
      "cell_type": "code",
      "source": [
        "# Evaluate Neural Network\n",
        "nn_loss, nn_accuracy = nn_model.evaluate(X_test, y_test, verbose=0)\n",
        "nn_predictions = (nn_model.predict(X_test) > 0.5).astype(\"int32\")"
      ],
      "metadata": {
        "id": "eK-FoLjXtkm7",
        "outputId": "8068d48f-2d64-4523-824c-68ea95d64f2b",
        "colab": {
          "base_uri": "https://localhost:8080/"
        }
      },
      "execution_count": 15,
      "outputs": [
        {
          "output_type": "stream",
          "name": "stdout",
          "text": [
            "\u001b[1m283/283\u001b[0m \u001b[32m━━━━━━━━━━━━━━━━━━━━\u001b[0m\u001b[37m\u001b[0m \u001b[1m0s\u001b[0m 1ms/step\n"
          ]
        }
      ]
    },
    {
      "cell_type": "code",
      "source": [
        "print(\"\\nNeural Network Classification Report:\\n\", classification_report(y_test, nn_predictions))\n",
        "print(\"Neural Network Accuracy:\", nn_accuracy)"
      ],
      "metadata": {
        "id": "-KEqchFht5W-",
        "outputId": "ef64eda6-017e-4001-876c-469f094957f9",
        "colab": {
          "base_uri": "https://localhost:8080/"
        }
      },
      "execution_count": 16,
      "outputs": [
        {
          "output_type": "stream",
          "name": "stdout",
          "text": [
            "\n",
            "Neural Network Classification Report:\n",
            "               precision    recall  f1-score   support\n",
            "\n",
            "           0       0.92      0.98      0.95      7952\n",
            "           1       0.69      0.40      0.51      1091\n",
            "\n",
            "    accuracy                           0.91      9043\n",
            "   macro avg       0.81      0.69      0.73      9043\n",
            "weighted avg       0.89      0.91      0.89      9043\n",
            "\n",
            "Neural Network Accuracy: 0.9060046672821045\n"
          ]
        }
      ]
    },
    {
      "cell_type": "code",
      "source": [
        "# Save the results\n",
        "results = {\n",
        "    \"Random Forest Accuracy\": accuracy_score(y_test, rf_predictions),\n",
        "    \"Neural Network Accuracy\": nn_accuracy\n",
        "}"
      ],
      "metadata": {
        "id": "GQENLk5Mt8n_"
      },
      "execution_count": 17,
      "outputs": []
    },
    {
      "cell_type": "code",
      "source": [
        "print(\"\\nResults:\", results)"
      ],
      "metadata": {
        "id": "d1NzcYqMuA9F",
        "outputId": "d8b8bbf8-594c-4fc2-c0d6-8b13c88f9f0b",
        "colab": {
          "base_uri": "https://localhost:8080/"
        }
      },
      "execution_count": 18,
      "outputs": [
        {
          "output_type": "stream",
          "name": "stdout",
          "text": [
            "\n",
            "Results: {'Random Forest Accuracy': 0.9036824062811014, 'Neural Network Accuracy': 0.9060046672821045}\n"
          ]
        }
      ]
    }
  ]
}